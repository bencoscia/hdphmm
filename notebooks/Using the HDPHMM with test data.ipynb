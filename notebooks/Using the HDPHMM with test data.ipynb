{
 "cells": [
  {
   "cell_type": "markdown",
   "metadata": {},
   "source": [
    "# Generating Test Data\n",
    "\n",
    "As a sanity check, it is often helpful to use test data with a known state sequence in order to make sure that the code\n",
    "is working. The hdphmm package has functionality designed exactly for this. In this example, we will generate vector\n",
    "autoregressive time series, use the HDPHMM to determine the latent state sequence, then compare the predictions to the\n",
    "known state sequence.\n",
    "\n",
    "Let's start by remembering exactly what a vector autoregressive timeseries looks like.\n",
    "\n",
    "\n",
    "For a multidimensional time series, one could write a system of dependent autoregressive equations:\n",
    "\n",
    "$Y_t = \\phi_1 Y_{t-1} + ... + \\phi_p Y_{t-p} + u_t$\n",
    "\n",
    "where\n",
    "\n",
    "$Y_t = \\begin{bmatrix} y_{1,t} \\\\ y_{2,t} \\\\ ... \\\\  y_{k,t} \\end{bmatrix},\n",
    " Y_{t-1} = \\begin{bmatrix} y_{1,t-1} \\\\ y_{2,t-1} \\\\ ... \\\\  y_{k,t-1} \\end{bmatrix},\n",
    " ...$\n",
    "\n",
    "The matrices $\\phi_i$ are K x K matrices where K is the number of dimensions of the trajectory.\n",
    "$\\phi_1$ contains the 1st time lag autoregressive coefficients. If\n",
    "\n",
    "$\\phi_1 = \\begin{bmatrix} 0.5 & 0 \\\\ 0 & 0.4 \\end{bmatrix}$\n",
    "\n",
    "the associated system of equations for a VAR(1) process would be:\n",
    "\n",
    "$y_{1,t} = 0.5y_{1,t-1} + u_{1,t}$\n",
    "\n",
    "$y_{2,t} = 0.4y_{2, t-1} + u_{2,t}$\n",
    "\n",
    "Of course, adding cross-terms to $\\phi$ would create more complex dynamical behavior\n",
    "\n",
    "$u_t$ is a K-dimensional vector multivariate gaussian noise generated on the covariance matrix of the data"
   ]
  },
  {
   "cell_type": "code",
   "execution_count": 1,
   "metadata": {
    "collapsed": true
   },
   "outputs": [],
   "source": [
    "\"\"\"\n",
    "Let's start with importing the modules we will use.\n",
    "\"\"\"\n",
    "\n",
    "import hdphmm\n",
    "from hdphmm import generate_timeseries as gent\n",
    "import numpy as np\n",
    "import matplotlib.pyplot as plt"
   ]
  },
  {
   "cell_type": "markdown",
   "metadata": {},
   "source": [
    "First, we must initialize the parameters that we will use to describe the time series. At minimum, we must tell the program the type of dynamics, the dimensions of the trajectories and the number of states. It will assume an autoregressive order of 1 unless told otherwise."
   ]
  },
  {
   "cell_type": "code",
   "execution_count": 2,
   "metadata": {},
   "outputs": [],
   "source": [
    "dynamics = 'AR'  # the type of dynamics (AR = autoregressive)\n",
    "dim = 2  # number of trajectory dimensions\n",
    "nstates = 3  # number of independent states\n",
    "\n",
    "trajectory_generator = gent.GenData(dynamics, dim, nstates=nstates)"
   ]
  },
  {
   "cell_type": "markdown",
   "metadata": {},
   "source": [
    "Based on this minimal set of inputs, the GenData class will create a transition matrix, a covariance matrix and autoregressive coefficient matrices ($\\phi$). Note that for randomly generated parameters, the off-diagonals of $\\phi$ are set to 0 for stability purposes."
   ]
  },
  {
   "cell_type": "code",
   "execution_count": 3,
   "metadata": {},
   "outputs": [
    {
     "name": "stdout",
     "output_type": "stream",
     "text": [
      "T=\n",
      " [[0.7793 0.0645 0.1561]\n",
      " [0.1362 0.7317 0.1321]\n",
      " [0.0215 0.042  0.9365]]\n",
      "cov=\n",
      " [[[0.3769 0.3569]\n",
      "  [0.3569 0.5033]]\n",
      "\n",
      " [[0.4501 0.2611]\n",
      "  [0.2611 0.1522]]\n",
      "\n",
      " [[1.4492 0.5782]\n",
      "  [0.5782 0.2578]]]\n",
      "Phi=\n",
      " [[[[ 0.9933  0.    ]\n",
      "   [ 0.     -0.9899]]]\n",
      "\n",
      "\n",
      " [[[-0.6991  0.    ]\n",
      "   [ 0.      0.489 ]]]\n",
      "\n",
      "\n",
      " [[[ 0.7559  0.    ]\n",
      "   [ 0.      0.4714]]]]\n"
     ]
    }
   ],
   "source": [
    "print('T=\\n', trajectory_generator.T)\n",
    "print('cov=\\n', trajectory_generator.cov)\n",
    "print('Phi=\\n', trajectory_generator.phis)"
   ]
  },
  {
   "cell_type": "markdown",
   "metadata": {},
   "source": [
    "Automatic generation is nice, but maybe we want more control. Let's define the above parameters and pass them to the GenData class."
   ]
  },
  {
   "cell_type": "code",
   "execution_count": 4,
   "metadata": {},
   "outputs": [],
   "source": [
    "T = np.array([[0.99, 0.005, 0.005], [0.01, 0.98, 0.01], [0.02, 0.03, 0.95]])\n",
    "cov = np.array([[[0.8, 0.16], [0.16, 0.06]], [[1, 0.35], [0.35, 0.13]], [[0.07, 0.223], [0.223, 0.9]]])\n",
    "phis = np.array([[[0.1, 0], [0, -0.3]], [[-0.7, 0.0], [0.2, 0.0]], [[0.45, 0.0], [0.0, -0.2]]])\n",
    "\n",
    "trajectory_generator = gent.GenData(dynamics, dim, transition_matrix=T, phis=phis, cov=cov)"
   ]
  },
  {
   "cell_type": "markdown",
   "metadata": {},
   "source": [
    "Okay, now actually generate some trajectories"
   ]
  },
  {
   "cell_type": "code",
   "execution_count": 5,
   "metadata": {},
   "outputs": [],
   "source": [
    "ntraj = 1  # generate 1 multi-dimensional trajectory\n",
    "nsteps = 2000  # number of time steps in trajectory\n",
    "\n",
    "trajectory_generator.gen_trajectory(nsteps, ntraj)"
   ]
  },
  {
   "cell_type": "markdown",
   "metadata": {},
   "source": [
    "And now plot them to see what they look like. It is clear that the types of fluctuations are changing frequently. Note that each trajectory is just noise about 0. "
   ]
  },
  {
   "cell_type": "code",
   "execution_count": 6,
   "metadata": {},
   "outputs": [
    {
     "data": {
      "image/png": "[encoded data removed]",
      "text/plain": [
       "<Figure size 432x288 with 2 Axes>"
      ]
     },
     "metadata": {},
     "output_type": "display_data"
    }
   ],
   "source": [
    "fig, ax = plt.subplots(2, 1)\n",
    "\n",
    "ax[0].plot(trajectory_generator.traj[:, 0, 0])\n",
    "ax[1].plot(trajectory_generator.traj[:, 0, 1])\n",
    "\n",
    "plt.show()"
   ]
  },
  {
   "cell_type": "markdown",
   "metadata": {},
   "source": [
    "# Estimating the latent state sequnce with the HDPHMM\n",
    "\n",
    "Now let's use the HDPHMM to estimate the latent state sequence and the AR parameters of the test data. We will first initialize the InfiniteHMM class using the trajectory_generator object. Then we will run the algorithm for a set number of iterations. \n",
    "\n",
    "Remember, we aren't providing the algorithm with anything other than the raw trajectory data."
   ]
  },
  {
   "cell_type": "code",
   "execution_count": 7,
   "metadata": {},
   "outputs": [
    {
     "name": "stderr",
     "output_type": "stream",
     "text": [
      "\r",
      "  0%|          | 0/200 [00:00<?, ?it/s]"
     ]
    },
    {
     "name": "stdout",
     "output_type": "stream",
     "text": [
      "Fitting 1 2 dimensional trajectories assuming an autoregressive order of 1\n"
     ]
    },
    {
     "name": "stderr",
     "output_type": "stream",
     "text": [
      "100%|██████████| 200/200 [00:34<00:00,  5.90it/s]\n"
     ]
    }
   ],
   "source": [
    "niter = 200  # number of iterations to cycle through\n",
    "ihmm = hdphmm.InfiniteHMM(trajectory_generator)\n",
    "ihmm.inference(niter)"
   ]
  },
  {
   "cell_type": "markdown",
   "metadata": {},
   "source": [
    "Now it's time to see how the algorithm did."
   ]
  },
  {
   "cell_type": "code",
   "execution_count": 8,
   "metadata": {},
   "outputs": [
    {
     "name": "stdout",
     "output_type": "stream",
     "text": [
      "Found 3 unique states\n",
      "3 states were used to generate this data\n",
      "\n",
      "Estimated Transition Matrix:\n",
      "\n",
      "[[0.9809 0.0103 0.0088]\n",
      " [0.0124 0.9826 0.0051]\n",
      " [0.0182 0.0084 0.9734]]\n",
      "\n",
      "Actual Transition Matrix:\n",
      "\n",
      "[[0.99  0.005 0.005]\n",
      " [0.01  0.98  0.01 ]\n",
      " [0.02  0.03  0.95 ]]\n",
      "\n",
      "Root mean squared error between estimated and true matrices: 0.0115\n",
      "\n",
      "Correctly identified 95.7 % of states\n"
     ]
    },
    {
     "ename": "AttributeError",
     "evalue": "'InfiniteHMM' object has no attribute 'com'",
     "output_type": "error",
     "traceback": [
      "\u001b[0;31m---------------------------------------------------------------------------\u001b[0m",
      "\u001b[0;31mAttributeError\u001b[0m                            Traceback (most recent call last)",
      "\u001b[0;32m<ipython-input-8-b5857dd38399>\u001b[0m in \u001b[0;36m<module>\u001b[0;34m()\u001b[0m\n\u001b[0;32m----> 1\u001b[0;31m \u001b[0mihmm\u001b[0m\u001b[0;34m.\u001b[0m\u001b[0msummarize_results\u001b[0m\u001b[0;34m(\u001b[0m\u001b[0mtraj_no\u001b[0m\u001b[0;34m=\u001b[0m\u001b[0;36m0\u001b[0m\u001b[0;34m)\u001b[0m\u001b[0;34m\u001b[0m\u001b[0;34m\u001b[0m\u001b[0m\n\u001b[0m",
      "\u001b[0;32m~/PycharmProjects/hdphmm/hdphmm/hdphmm.py\u001b[0m in \u001b[0;36msummarize_results\u001b[0;34m(self, cmap, traj_no, plot_dim)\u001b[0m\n\u001b[1;32m    901\u001b[0m             \u001b[0max_estimated\u001b[0m\u001b[0;34m.\u001b[0m\u001b[0mset_title\u001b[0m\u001b[0;34m(\u001b[0m\u001b[0;34m'Estimated State Sequence'\u001b[0m\u001b[0;34m,\u001b[0m \u001b[0mfontsize\u001b[0m\u001b[0;34m=\u001b[0m\u001b[0;36m16\u001b[0m\u001b[0;34m)\u001b[0m\u001b[0;34m\u001b[0m\u001b[0;34m\u001b[0m\u001b[0m\n\u001b[1;32m    902\u001b[0m             \u001b[0max_estimated\u001b[0m\u001b[0;34m.\u001b[0m\u001b[0mset_xlim\u001b[0m\u001b[0;34m(\u001b[0m\u001b[0;34m[\u001b[0m\u001b[0;36m0\u001b[0m\u001b[0;34m,\u001b[0m \u001b[0mnT\u001b[0m \u001b[0;34m*\u001b[0m \u001b[0mself\u001b[0m\u001b[0;34m.\u001b[0m\u001b[0mdt\u001b[0m\u001b[0;34m]\u001b[0m\u001b[0;34m)\u001b[0m\u001b[0;34m\u001b[0m\u001b[0;34m\u001b[0m\u001b[0m\n\u001b[0;32m--> 903\u001b[0;31m             \u001b[0mymin\u001b[0m \u001b[0;34m=\u001b[0m \u001b[0mself\u001b[0m\u001b[0;34m.\u001b[0m\u001b[0mcom\u001b[0m\u001b[0;34m[\u001b[0m\u001b[0;34m:\u001b[0m\u001b[0;34m,\u001b[0m \u001b[0mtraj_no\u001b[0m\u001b[0;34m,\u001b[0m \u001b[0;36m0\u001b[0m\u001b[0;34m]\u001b[0m\u001b[0;34m.\u001b[0m\u001b[0mmin\u001b[0m\u001b[0;34m(\u001b[0m\u001b[0;34m)\u001b[0m\u001b[0;34m\u001b[0m\u001b[0;34m\u001b[0m\u001b[0m\n\u001b[0m\u001b[1;32m    904\u001b[0m             \u001b[0;32mif\u001b[0m \u001b[0mdim\u001b[0m \u001b[0;34m>\u001b[0m \u001b[0;36m1\u001b[0m\u001b[0;34m:\u001b[0m\u001b[0;34m\u001b[0m\u001b[0;34m\u001b[0m\u001b[0m\n\u001b[1;32m    905\u001b[0m                 \u001b[0mymax\u001b[0m \u001b[0;34m=\u001b[0m \u001b[0mself\u001b[0m\u001b[0;34m.\u001b[0m\u001b[0mcom\u001b[0m\u001b[0;34m[\u001b[0m\u001b[0;34m:\u001b[0m\u001b[0;34m,\u001b[0m \u001b[0mtraj_no\u001b[0m\u001b[0;34m,\u001b[0m \u001b[0;36m1\u001b[0m\u001b[0;34m:\u001b[0m\u001b[0;34m]\u001b[0m\u001b[0;34m.\u001b[0m\u001b[0mmax\u001b[0m\u001b[0;34m(\u001b[0m\u001b[0;34m)\u001b[0m \u001b[0;34m+\u001b[0m \u001b[0;34m(\u001b[0m\u001b[0mdim\u001b[0m \u001b[0;34m-\u001b[0m \u001b[0;36m1\u001b[0m\u001b[0;34m)\u001b[0m \u001b[0;34m*\u001b[0m \u001b[0mshift\u001b[0m\u001b[0;34m\u001b[0m\u001b[0;34m\u001b[0m\u001b[0m\n",
      "\u001b[0;31mAttributeError\u001b[0m: 'InfiniteHMM' object has no attribute 'com'"
     ]
    }
   ],
   "source": [
    "ihmm.summarize_results(traj_no=0)"
   ]
  },
  {
   "cell_type": "markdown",
   "metadata": {},
   "source": [
    "Not bad! If you are generating trajectories using the same parameters as me, you should be getting about 96 % of the latent states correct. If you're not getting good results try calling the inference method again, perhaps with more iterations."
   ]
  },
  {
   "cell_type": "code",
   "execution_count": null,
   "metadata": {
    "collapsed": true
   },
   "outputs": [],
   "source": []
  }
 ],
 "metadata": {
  "kernelspec": {
   "display_name": "Python 3",
   "language": "python",
   "name": "python3"
  },
  "language_info": {
   "codemirror_mode": {
    "name": "ipython",
    "version": 3
   },
   "file_extension": ".py",
   "mimetype": "text/x-python",
   "name": "python",
   "nbconvert_exporter": "python",
   "pygments_lexer": "ipython3",
   "version": "3.6.8"
  }
 },
 "nbformat": 4,
 "nbformat_minor": 2
}
