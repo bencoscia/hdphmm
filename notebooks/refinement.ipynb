{
 "cells": [
  {
   "cell_type": "code",
   "execution_count": null,
   "metadata": {},
   "outputs": [],
   "source": [
    "%run master_functions.ipynb"
   ]
  },
  {
   "cell_type": "code",
   "execution_count": null,
   "metadata": {},
   "outputs": [],
   "source": [
    "def plot_msd(hmm, ntrajper, res, traj_no, savename=None, color='xkcd:orange', show=True):\n",
    "    \n",
    "    final_p = get_params([hmm], hmm, hmm.z, clustered=False)\n",
    "\n",
    "    traj = gen_realizations(final_p, ntrajper, progress=True)\n",
    "\n",
    "    msd = individual_unclustered_realizations(res, traj_no, traj[np.newaxis, ...], single=True, \n",
    "                                              savename=savename, color=color, show=show)"
   ]
  },
  {
   "cell_type": "markdown",
   "metadata": {},
   "source": [
    "# Load Original IHMM File"
   ]
  },
  {
   "cell_type": "code",
   "execution_count": null,
   "metadata": {},
   "outputs": [],
   "source": [
    "res = 'URE'\n",
    "\n",
    "ihmm = file_rw.load_object('saved_parameters/2000iter_%s_unseeded.pl' % res)['ihmm']"
   ]
  },
  {
   "cell_type": "markdown",
   "metadata": {},
   "source": [
    "# Define Trajectory that needs improvement and have a look"
   ]
  },
  {
   "cell_type": "code",
   "execution_count": null,
   "metadata": {},
   "outputs": [],
   "source": [
    "tr = 13 # trajectory number to improve\n",
    "savename = '/home/ben/github/LLC_Membranes/Ben_Manuscripts/hdphmm/supporting_figures/state_sequence_before_%s_%d.pdf' % (res, tr)\n",
    "ihmm[tr].summarize_results(savename=None)"
   ]
  },
  {
   "cell_type": "markdown",
   "metadata": {},
   "source": [
    "# Reparameterize Trajectory\n",
    "\n",
    "These are parmeters that may need to be changed in order to get a better initial guess at the state sequence.\n",
    "This will run the first 250 iterations of the IHMM procedure so that you can see if it's heading in the right direction."
   ]
  },
  {
   "cell_type": "code",
   "execution_count": null,
   "metadata": {
    "scrolled": true
   },
   "outputs": [],
   "source": [
    "load = True  # should be False if reparameterizing\n",
    "show_traj = True\n",
    "save = False\n",
    "mod_T = False\n",
    "ntrajper = 10\n",
    "analyze = [tr]\n",
    "analyze = np.arange(24)\n",
    "# analyze = [0, 1, 4, 8, 13, 15, 22]\n",
    "# analyze = [1]\n",
    "seed = True\n",
    "seed_segs = 8\n",
    "niter_inference = 250\n",
    "\n",
    "scout = True  # take a look at the MSDs and don't do any parameterization\n",
    "\n",
    "# IHMM params\n",
    "max_states = 100  # More is usually better\n",
    "com = 'trajectories/com_xy_radial_%s.pl' % res\n",
    "load_com=True\n",
    "#hyperparams={'scale_sig0': np.array([1, 1]), 'a_gamma': 50}\n",
    "hyperparams={'a_gamma': 5000}\n",
    "hyperparams=None\n",
    "\n",
    "com_filename = 'trajectories/com_xy_radial_%s.pl' % res\n",
    "\n",
    "if seed:\n",
    "    com = file_rw.load_object(com_filename)\n",
    "    load_com = False\n",
    "else:\n",
    "    com = com_filename\n",
    "    load_com = True\n",
    "\n",
    "for i, hmm in enumerate(ihmm):\n",
    "    \n",
    "    if i in analyze:\n",
    "        \n",
    "        print('Trajectory %d' % i)\n",
    "\n",
    "        if not scout:\n",
    "            \n",
    "            if show_traj:\n",
    "\n",
    "                hmm.summarize_results(traj_no=0)\n",
    "\n",
    "            if seed:\n",
    "\n",
    "                z = seed_sequence(com, i, nseg=seed_segs, max_states=max_states, niter=5)\n",
    "                print('Seeding with %d states' % np.unique(z).size)\n",
    "                com = (com[0][:(z.size + 1), ...], com[1])\n",
    "                load_com = False\n",
    "\n",
    "            else:\n",
    "\n",
    "                z = None\n",
    "                load_com = True\n",
    "\n",
    "            # do it again\n",
    "            max_states = max(max_states, np.unique(z).size)\n",
    "            new_hmm = hdphmm.InfiniteHMM(com, traj_no=i, load_com=load_com, difference=False, \n",
    "                                 observation_model='AR', order=1, max_states=max_states,\n",
    "                                 dim=[0, 1, 2], prior='MNIW-N', save_every=20, hyperparams=hyperparams,\n",
    "                                 seed_sequence=z)\n",
    "\n",
    "            new_hmm.inference(niter_inference)\n",
    "\n",
    "            new_hmm.summarize_results(traj_no=0)\n",
    "            new_hmm._get_params(traj_no=0)\n",
    "        \n",
    "        plot_msd(hmm, ntrajper, res, i, show=scout)\n",
    "        \n",
    "        if not scout:\n",
    "            \n",
    "            plot_msd(new_hmm, ntrajper, res, i, color='xkcd:blue')\n"
   ]
  },
  {
   "cell_type": "code",
   "execution_count": null,
   "metadata": {},
   "outputs": [],
   "source": [
    "print(new_hmm.com.shape)"
   ]
  },
  {
   "cell_type": "markdown",
   "metadata": {},
   "source": [
    "# Look for convergence in the total number of states"
   ]
  },
  {
   "cell_type": "code",
   "execution_count": null,
   "metadata": {},
   "outputs": [],
   "source": [
    "plt.plot(new_hmm.convergence['nstates'], lw=2)\n",
    "plt.xlabel('iteration', fontsize=14)\n",
    "plt.ylabel('Number of Unique States', fontsize=14)\n",
    "plt.tick_params(labelsize=14)\n",
    "plt.show()"
   ]
  },
  {
   "cell_type": "markdown",
   "metadata": {},
   "source": [
    "# If satisfied with above, continue the remainder of IHMM procedure"
   ]
  },
  {
   "cell_type": "code",
   "execution_count": null,
   "metadata": {},
   "outputs": [],
   "source": [
    "new_hmm.inference(1750)  # I want 2000 total iterations for the paper"
   ]
  },
  {
   "cell_type": "markdown",
   "metadata": {},
   "source": [
    "# Check that number of unique states stopped changing"
   ]
  },
  {
   "cell_type": "code",
   "execution_count": null,
   "metadata": {},
   "outputs": [],
   "source": [
    "plt.plot(new_hmm.convergence['nstates'], lw=2)\n",
    "plt.xlabel('iteration', fontsize=14)\n",
    "plt.ylabel('Number of Unique States', fontsize=14)\n",
    "plt.tick_params(labelsize=14)\n",
    "plt.show()"
   ]
  },
  {
   "cell_type": "markdown",
   "metadata": {},
   "source": [
    "# Get new converged parameters"
   ]
  },
  {
   "cell_type": "code",
   "execution_count": null,
   "metadata": {},
   "outputs": [],
   "source": [
    "new_hmm._get_params()  # need to do this to update the converged parameters"
   ]
  },
  {
   "cell_type": "markdown",
   "metadata": {},
   "source": [
    "# View and/or save a picture of the new state sequence and MSD prediction"
   ]
  },
  {
   "cell_type": "code",
   "execution_count": null,
   "metadata": {},
   "outputs": [],
   "source": [
    "save = False\n",
    "\n",
    "if save:\n",
    "    savename = '/home/ben/github/LLC_Membranes/Ben_Manuscripts/hdphmm/supporting_figures/state_sequence_after_%s_%d.pdf' % (res, analyze[0])\n",
    "else:\n",
    "    savename = None\n",
    "    \n",
    "new_hmm.summarize_results(traj_no=0, savename=savename)"
   ]
  },
  {
   "cell_type": "code",
   "execution_count": null,
   "metadata": {},
   "outputs": [],
   "source": [
    "save = True\n",
    "if save:\n",
    "    savename = '/home/ben/github/LLC_Membranes/Ben_Manuscripts/hdphmm/supporting_figures/underestimate_%s_%d.pdf' % (res, tr)\n",
    "else:\n",
    "    savename = None\n",
    "\n",
    "plot_msd(ihmm[tr], ntrajper, res, tr, savename=savename)"
   ]
  },
  {
   "cell_type": "code",
   "execution_count": null,
   "metadata": {},
   "outputs": [],
   "source": [
    "if save:\n",
    "    savename = '/home/ben/github/LLC_Membranes/Ben_Manuscripts/hdphmm/supporting_figures/msd_improvement_%s_%d.pdf' % (res, analyze[0])\n",
    "else:\n",
    "    savename = None\n",
    "    \n",
    "plot_msd(new_hmm, ntrajper, res, tr, savename=savename)"
   ]
  },
  {
   "cell_type": "markdown",
   "metadata": {},
   "source": [
    "# Update IHMM file with new parameterization"
   ]
  },
  {
   "cell_type": "code",
   "execution_count": null,
   "metadata": {},
   "outputs": [],
   "source": [
    "ihmm[tr] = new_hmm"
   ]
  },
  {
   "cell_type": "code",
   "execution_count": null,
   "metadata": {},
   "outputs": [],
   "source": [
    "file_rw.save_object({'ihmm': ihmm, 'ihmmr': None}, 'saved_parameters/2000iter_%s_unseeded.pl' % res)"
   ]
  },
  {
   "cell_type": "markdown",
   "metadata": {},
   "source": [
    "# Test New IHMM file"
   ]
  },
  {
   "cell_type": "code",
   "execution_count": null,
   "metadata": {},
   "outputs": [],
   "source": [
    "ihmm2 = file_rw.load_object('saved_parameters/2000iter_%s_unseeded.pl' % res)['ihmm']"
   ]
  },
  {
   "cell_type": "code",
   "execution_count": null,
   "metadata": {},
   "outputs": [],
   "source": [
    "ihmm2[tr].summarize_results()"
   ]
  },
  {
   "cell_type": "code",
   "execution_count": null,
   "metadata": {},
   "outputs": [],
   "source": [
    "plot_msd(ihmm2[tr], 10, res, tr)"
   ]
  },
  {
   "cell_type": "markdown",
   "metadata": {},
   "source": [
    "# Visualize Seeded Initial Sequences"
   ]
  },
  {
   "cell_type": "code",
   "execution_count": null,
   "metadata": {},
   "outputs": [],
   "source": [
    "save_prefix = '/home/ben/github/LLC_Membranes/Ben_Manuscripts/hdphmm/supporting_figures/seed_%s%d' %(res, tr)\n",
    "z = seed_sequence(file_rw.load_object(com_filename), tr, nseg=4, max_states=100, niter=5, save_prefix=save_prefix)"
   ]
  },
  {
   "cell_type": "code",
   "execution_count": null,
   "metadata": {},
   "outputs": [],
   "source": [
    "seeded = hdphmm.InfiniteHMM(com_filename, traj_no=tr, load_com=True, difference=False, \n",
    "                     observation_model='AR', order=1, max_states=max_states,\n",
    "                     dim=[0, 1, 2], prior='MNIW-N', save_every=20, hyperparams=hyperparams,\n",
    "                     seed_sequence=z)\n",
    "\n",
    "seeded.inference(1)"
   ]
  },
  {
   "cell_type": "code",
   "execution_count": null,
   "metadata": {},
   "outputs": [],
   "source": [
    "savename = '/home/ben/github/LLC_Membranes/Ben_Manuscripts/hdphmm/supporting_figures/seed_%s%d_full.pdf' %(res, tr)\n",
    "seeded.summarize_results(savename=savename)"
   ]
  },
  {
   "cell_type": "code",
   "execution_count": null,
   "metadata": {},
   "outputs": [],
   "source": []
  }
 ],
 "metadata": {
  "kernelspec": {
   "display_name": "Python 3",
   "language": "python",
   "name": "python3"
  },
  "language_info": {
   "codemirror_mode": {
    "name": "ipython",
    "version": 3
   },
   "file_extension": ".py",
   "mimetype": "text/x-python",
   "name": "python",
   "nbconvert_exporter": "python",
   "pygments_lexer": "ipython3",
   "version": "3.7.4"
  }
 },
 "nbformat": 4,
 "nbformat_minor": 2
}
