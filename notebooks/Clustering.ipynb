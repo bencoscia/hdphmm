{
 "cells": [
  {
   "cell_type": "code",
   "execution_count": 11,
   "metadata": {},
   "outputs": [],
   "source": [
    "%run master_functions.ipynb"
   ]
  },
  {
   "cell_type": "code",
   "execution_count": 4,
   "metadata": {},
   "outputs": [],
   "source": [
    "res = 'MET'\n",
    "\n",
    "ihmm = file_rw.load_object('saved_parameters/2000iter_%s.pl' % res)['ihmm']"
   ]
  },
  {
   "cell_type": "code",
   "execution_count": 5,
   "metadata": {},
   "outputs": [],
   "source": [
    "A, sigma, mu, T = organize_parameters(ihmm) # arrange parameters into arrays suitable for clustering\n",
    "\n",
    "# file_rw.save_object({'A': A, 'sigma': sigma, 'mu': mu, 'T': T}, 'organized_params.pl')\n",
    "\n",
    "tot_clusters = 30  # total clusters if combine_clusters = True\n",
    "\n",
    "# clusters on each variable if combine_clusters = False\n",
    "nclusters_A = 3\n",
    "nclusters_sigma = 3\n",
    "nclusters_r = 2\n",
    "nclusters_T = 4\n",
    "\n",
    "# total clusters on non-T variables if cluster_T_separate = True\n",
    "nonT_clusters = 10\n",
    "\n",
    "combine_clusters = True\n",
    "cluster_T_separate = False\n",
    "cluster_vars = 'eigs'\n",
    "algorithm = 'agglomerative'\n",
    "\n",
    "# default is diags\n",
    "eigs = False\n",
    "diags = True\n",
    "if cluster_vars == 'eigs':\n",
    "    eigs = True\n",
    "    diags = False"
   ]
  },
  {
   "cell_type": "code",
   "execution_count": 10,
   "metadata": {},
   "outputs": [
    {
     "name": "stdout",
     "output_type": "stream",
     "text": [
      "Found 20 clusters\n"
     ]
    },
    {
     "name": "stderr",
     "output_type": "stream",
     "text": [
      "\n",
      "  0%|          | 0/10 [00:00<?, ?it/s]\u001b[A"
     ]
    },
    {
     "name": "stdout",
     "output_type": "stream",
     "text": [
      "Fitting 24 3 dimensional trajectories assuming an autoregressive order of 1\n"
     ]
    },
    {
     "name": "stderr",
     "output_type": "stream",
     "text": [
      "\n",
      " 10%|█         | 1/10 [00:02<00:25,  2.88s/it]\u001b[A\n",
      " 20%|██        | 2/10 [00:05<00:23,  2.88s/it]\u001b[A\n",
      " 30%|███       | 3/10 [00:08<00:20,  2.90s/it]\u001b[A\n",
      " 40%|████      | 4/10 [00:11<00:17,  2.91s/it]\u001b[A\n",
      " 50%|█████     | 5/10 [00:14<00:14,  2.91s/it]\u001b[A\n",
      " 60%|██████    | 6/10 [00:17<00:11,  2.93s/it]\u001b[A\n",
      " 70%|███████   | 7/10 [00:20<00:08,  2.93s/it]\u001b[A\n",
      " 80%|████████  | 8/10 [00:23<00:05,  2.94s/it]\u001b[A\n",
      " 90%|█████████ | 9/10 [00:26<00:02,  2.95s/it]\u001b[A\n",
      "100%|██████████| 10/10 [00:29<00:00,  2.94s/it]\u001b[A\n"
     ]
    },
    {
     "name": "stdout",
     "output_type": "stream",
     "text": [
      "[0.7695 1.1585 0.1461 0.2416 1.135  1.0519 0.3922 0.5518 0.0946 4.4018\n",
      " 0.3944 4.111  0.5102 2.9182 0.8172 1.6704 0.1421 3.1652 0.4584 0.8282]\n"
     ]
    }
   ],
   "source": [
    "nboot = 50  # number of bootstrap trials\n",
    "frac = 0.4\n",
    "ntraj = 100\n",
    "dt = 0.5\n",
    "endshow=2000\n",
    "linkage='ward'  # possibilities: {“ward”, “complete”, “average”, “single”}\n",
    "load = False\n",
    "save = False\n",
    "\n",
    "tot_clusters = [4, 6, 8, 10, 12, 14, 16, 18, 20, 22, 24, 26, 28, 30]\n",
    "tot_clusters = [20]\n",
    "if load:\n",
    "    \n",
    "    final_parameters, trajectory_generators, clustered_labels = file_rw.load_object('clusters_%s_%s.pl' %(res, linkage))\n",
    "    print('Loaded clusters_%s_%s.pl' % (res, linkage))\n",
    "else:\n",
    "    \n",
    "    trajectory_generators = {}\n",
    "    final_parameters = {}\n",
    "    clustered_labels = {}\n",
    "\n",
    "    for i, nC in enumerate(tot_clusters):\n",
    "\n",
    "        sig_cluster, all_state_params = cluster_parameters(sigma, A, mu, T, combine_clusters, cluster_T_separate, \n",
    "                                                           eigs, diags, nC, nonT_clusters, nclusters_T,\n",
    "                                                           nclusters_sigma, nclusters_r, nclusters_A, linkage=linkage)\n",
    "        \n",
    "        clustered_labels[nC] = sig_cluster.labels\n",
    "        final_parameters[nC] = parameterize_clusters(sig_cluster, ihmm, show=False)\n",
    "        print(np.linalg.norm(final_parameters[nC]['mu'][:, :2], axis=1))\n",
    "        break\n",
    "        nsteps = final_parameters[nC]['z'].shape[1]\n",
    "\n",
    "        trajectory_generators[nC] = GenARData(params=final_parameters[nC])\n",
    "        trajectory_generators[nC].gen_trajectory(nsteps, ntraj, bound_dimensions=[0, 1], resample_T=True)\n",
    "\n",
    "    if save:\n",
    "        \n",
    "        file_rw.save_object((final_parameters, trajectory_generators, clustered_labels), 'clusters_%s_%s.pl' %(res, linkage))"
   ]
  },
  {
   "cell_type": "markdown",
   "metadata": {},
   "source": [
    "## Visualize clustering on individual variables"
   ]
  },
  {
   "cell_type": "code",
   "execution_count": null,
   "metadata": {},
   "outputs": [],
   "source": [
    "hist_limits = [[None, None, None, None], [None, None, [0, 10], None], [None, None, [0, 200], None]]\n",
    "axis_limits = [[[0.5, 1], None],\n",
    "               [[0, 10], None],\n",
    "               [[0, 200], None]]\n",
    "\n",
    "visualize_clusters(T, 'T', nclusters_T, eigs, diags, nbins=25, algorithm='agglomerative', linkage='ward', hist_limits=hist_limits, axis_limits=axis_limits)"
   ]
  },
  {
   "cell_type": "code",
   "execution_count": null,
   "metadata": {},
   "outputs": [],
   "source": [
    "params = {'sigma': sigma, 'A': A, 'mu': np.square(np.linalg.norm(mu[:2, :], axis=0)), 'T': -np.log(1 - T)}\n",
    "silhouette_(params, eigs, diags, 'ward', np.arange(2, 30), algorithm='agglomerative', plot=True, \n",
    "            savename='/home/ben/github/LLC_Membranes/Ben_Manuscripts/hdphmm/supporting_figures/silhouette_%s.pdf' % res)"
   ]
  }
 ],
 "metadata": {
  "kernelspec": {
   "display_name": "Python 3",
   "language": "python",
   "name": "python3"
  },
  "language_info": {
   "codemirror_mode": {
    "name": "ipython",
    "version": 3
   },
   "file_extension": ".py",
   "mimetype": "text/x-python",
   "name": "python",
   "nbconvert_exporter": "python",
   "pygments_lexer": "ipython3",
   "version": "3.7.4"
  }
 },
 "nbformat": 4,
 "nbformat_minor": 2
}
