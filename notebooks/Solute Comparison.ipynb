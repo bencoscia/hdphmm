{
 "cells": [
  {
   "cell_type": "code",
   "execution_count": 18,
   "metadata": {},
   "outputs": [],
   "source": [
    "%run master_functions.ipynb"
   ]
  },
  {
   "cell_type": "code",
   "execution_count": 68,
   "metadata": {},
   "outputs": [],
   "source": [
    "def load_parameters(solutes, nclusters, linkage='ward'):\n",
    "\n",
    "    params = {i : {} for i in solutes}\n",
    "    \n",
    "    for n, s in zip(nclusters, solutes):\n",
    "        \n",
    "        if s != 'GCL':\n",
    "            ihmm = file_rw.load_object('saved_parameters/2000iter_%s_unseeded.pl' % s)['ihmm']\n",
    "        else:\n",
    "            ihmm = file_rw.load_object('saved_parameters/2000iter_%s.pl' % s)['ihmm']\n",
    "\n",
    "        A, sigma, mu, T, mu_weights = organize_parameters(ihmm) # arrange parameters into arrays suitable for clustering\n",
    "        \n",
    "        params[s]['z'] = file_rw.load_object('clusters_%s_%s.pl' %(s, linkage))[0][n]['z']\n",
    "        params[s]['final_parameters'] = file_rw.load_object('clusters_%s_%s.pl' %(s, linkage))[0][n]\n",
    "        \n",
    "        params[s]['unclustered_params'] = {'A': A, 'sigma': sigma, 'mu': mu, 'T': T, 'mu_weights': mu_weights}\n",
    "        \n",
    "        params[s]['density'] = get_density(s)\n",
    "        params[s]['coord'] = get_coordination(s)\n",
    "        params[s]['hbonded'], params[s]['monomer_hbonds'], params[s]['definitions'] = get_hbonds(s)\n",
    "        \n",
    "    return params"
   ]
  },
  {
   "cell_type": "code",
   "execution_count": 69,
   "metadata": {},
   "outputs": [],
   "source": [
    "solutes = ['MET', 'GCL', 'URE', 'ACH']\n",
    "nclusters = [10, 10, 10, 10]\n",
    "\n",
    "params = load_parameters(solutes, nclusters)"
   ]
  },
  {
   "cell_type": "code",
   "execution_count": 38,
   "metadata": {},
   "outputs": [],
   "source": [
    "def hbonded_associated(residues, params, bar_width=0.75, bar_cmap = plt.cm.cool, savename=None):\n",
    "    \n",
    "    fig, haax = plt.subplots()\n",
    "    names = {'MET': 'methanol', 'URE': 'urea', 'GCL': 'ethylene\\n glycol', 'ACH': 'acetic\\n acid'}\n",
    "    \n",
    "    for i, r in enumerate(residues):\n",
    "    \n",
    "        z = params[r]['z']\n",
    "        hbonded = params[r]['hbonded']\n",
    "        coordinated = params[r]['coord']\n",
    "        nsolute = hbonded.shape[0]\n",
    "        \n",
    "        nclusters = np.unique(z).size\n",
    "        interactions = np.zeros([nclusters, 3])  # [hbonded, both, associated]\n",
    "\n",
    "        both = 0\n",
    "        only_hbonded = 0\n",
    "        only_coord = 0\n",
    "\n",
    "        for t in range(nsolute):\n",
    "            \n",
    "            zipped = np.array([hbonded[t, :], coordinated[t, :]]).astype(bool)\n",
    "\n",
    "            both += len(np.where(zipped.sum(axis=0) == 2)[0])\n",
    "\n",
    "            not_both_ndx = np.where(zipped.sum(axis=0) < 2)[0]\n",
    "            only_hbonded += len(np.where(zipped[0, not_both_ndx])[0])\n",
    "            only_coord += len(np.where(zipped[1, not_both_ndx])[0])\n",
    "\n",
    "            for s in range(np.unique(z).size):\n",
    "\n",
    "                ndx = np.where(z[t, :] == s)[0]\n",
    "\n",
    "                data = zipped[:, ndx]\n",
    "\n",
    "                not_both = np.where(data.sum(axis=0) < 2)[0]\n",
    "\n",
    "                interactions[s, 1] += len(np.where(data.sum(axis=0) == 2)[0])\n",
    "                interactions[s, 0] += len(np.where(data[0, not_both])[0])\n",
    "                interactions[s, 2] += len(np.where(data[1, not_both])[0])\n",
    "\n",
    "        bar_colors = np.array([bar_cmap(j) for j in np.linspace(50, 250, 4).astype(int)])\n",
    "\n",
    "        tot = z.size\n",
    "        both /= tot\n",
    "        only_hbonded /= tot\n",
    "        only_coord /= tot\n",
    "\n",
    "        #msd = file_rw.load_object('trajectories/%s_msd.pl' % res)\n",
    "\n",
    "        haax.bar(i, only_hbonded, bar_width, color=bar_colors[0], edgecolor='white', linewidth=1)\n",
    "        haax.bar(i, both, bar_width, bottom=only_hbonded, color=bar_colors[1], edgecolor='white', linewidth=1)\n",
    "        haax.bar(i, only_coord, bar_width, bottom=only_hbonded + both, color=bar_colors[2], edgecolor='white', linewidth=1)\n",
    "        #msdax.bar(i + bar_width/2, msd.MSD.mean(axis=1)[2000], bar_width, color=bar_colors[3], edgecolor='white', lw=2)\n",
    "\n",
    "    haax.tick_params(labelsize=14)\n",
    "    haax.set_xticks([0, 1, 2, 3])\n",
    "    haax.set_xticklabels([names[res] for res in residues])\n",
    "    haax.set_ylabel('Fraction of time spent interacting', fontsize=14)\n",
    "    haax.set_ylim(0, 1)\n",
    "\n",
    "#     msdax.tick_params(labelsize=14)\n",
    "#     msdax.set_ylim(0, 4.5)\n",
    "#     msdax.set_ylabel('Mean Squared Displacement', fontsize=14)\n",
    "\n",
    "    hatches = []\n",
    "    labels = ['Hbonded', 'Both', 'Associated']\n",
    "    for i in range(3):\n",
    "        hatches.append(mpatches.Patch(facecolor=bar_colors[i], label=labels[i], edgecolor='white'))\n",
    "\n",
    "    fig.legend(handles=hatches, fontsize=14, ncol=3, loc='upper left', bbox_to_anchor=(0.15, 0.94), \n",
    "               columnspacing=0.9, frameon=False)\n",
    "    fig.tight_layout()\n",
    "    \n",
    "    if savename is not None:\n",
    "        \n",
    "        fig.savefig(savename)\n"
   ]
  },
  {
   "cell_type": "code",
   "execution_count": 41,
   "metadata": {},
   "outputs": [
    {
     "data": {
      "image/png": "[encoded data removed]",
      "text/plain": [
       "<Figure size 432x288 with 1 Axes>"
      ]
     },
     "metadata": {
      "needs_background": "light"
     },
     "output_type": "display_data"
    }
   ],
   "source": [
    "save = True\n",
    "\n",
    "if save:\n",
    "    savename = '/home/ben/github/LLC_Membranes/Ben_Manuscripts/hdphmm/figures/hbonds_assoc_summary.pdf'\n",
    "else:\n",
    "    savename = None\n",
    "\n",
    "hbonded_associated(solutes, params, bar_width=0.75, bar_cmap=plt.cm.cool, savename=savename)"
   ]
  },
  {
   "cell_type": "code",
   "execution_count": 65,
   "metadata": {},
   "outputs": [],
   "source": [
    "def rdf(residues, params, cmap=plt.cm.jet, savename=None):\n",
    "    \n",
    "    colors = np.array([cmap(i) for i in np.linspace(50, 225, len(residues)).astype(int)])\n",
    "    names = {'MET': 'methanol', 'URE': 'urea', 'GCL': 'ethylene glycol', 'ACH': 'acetic acid'}\n",
    "    \n",
    "    fig, rdfax = plt.subplots(len(residues), 1, sharex=True, gridspec_kw = {'wspace':0, 'hspace':0})\n",
    "    \n",
    "    for i, r in enumerate(residues):\n",
    "        \n",
    "        z = params[r]['z']\n",
    "        mu = params[r]['unclustered_params']['mu']\n",
    "        mu_weights = params[r]['unclustered_params']['mu_weights']\n",
    "\n",
    "        mur = np.linalg.norm(mu[:2, :], axis=0)\n",
    "        rdf = []\n",
    "        for j, m in enumerate(mur):\n",
    "            rdf += [m] * mu_weights[j]\n",
    "            \n",
    "        nbins = 15\n",
    "        n, edges = np.histogram(rdf, range=(0, 3), bins=15, density=True)\n",
    "        x = np.zeros([2 * nbins + 2])\n",
    "        y = np.zeros_like(x)\n",
    "        x[1::2] = edges\n",
    "        x[2::2] = edges[:-1]\n",
    "        x += edges[1] - edges[0]\n",
    "        y[:-2:2] = n\n",
    "        y[1:-1:2] = n\n",
    "        rdfax[i].plot(x, y, color=colors[i], lw=2)\n",
    "        rdfax[i].hist(rdf, bins=15, range=(0, 3), color=colors[i], density=True, alpha=0.7)\n",
    "        rdfax[i].set_ylim(0, 2)\n",
    "        rdfax[i].set_yticks([1, 2])\n",
    "        rdfax[i].tick_params(labelsize=14)\n",
    "        hatch = mpatches.Patch(facecolor='xkcd:white', label=names[r], edgecolor='white')\n",
    "        rdfax[i].legend(handles = [hatch], loc='upper right', frameon=False, fontsize=14)\n",
    "\n",
    "    \n",
    "    rdfax[2].set_ylabel('          Cluster frequency', fontsize=14)\n",
    "    rdfax[3].set_xlabel('Radial distance from nearest pore center (nm)', fontsize=14)\n",
    "    fig.tight_layout()\n",
    "    \n",
    "    if savename is not None:\n",
    "        fig.savefig(savename)\n",
    "\n"
   ]
  },
  {
   "cell_type": "code",
   "execution_count": 132,
   "metadata": {},
   "outputs": [
    {
     "name": "stderr",
     "output_type": "stream",
     "text": [
      "/home/ben/Programs/anaconda3/lib/python3.7/site-packages/ipykernel_launcher.py:39: UserWarning: Tight layout not applied. tight_layout cannot make axes height small enough to accommodate all axes decorations\n"
     ]
    },
    {
     "data": {
      "image/png": "[encoded data removed]",
      "text/plain": [
       "<Figure size 432x288 with 4 Axes>"
      ]
     },
     "metadata": {
      "needs_background": "light"
     },
     "output_type": "display_data"
    }
   ],
   "source": [
    "save = True\n",
    "\n",
    "if save:\n",
    "    savename = '/home/ben/github/LLC_Membranes/Ben_Manuscripts/hdphmm/figures/rdf_summary.pdf'\n",
    "else:\n",
    "    savename = None\n",
    "    \n",
    "rdf(solutes, params, savename=savename, cmap=plt.cm.prism)"
   ]
  },
  {
   "cell_type": "code",
   "execution_count": 135,
   "metadata": {},
   "outputs": [],
   "source": [
    "def dwell_time_comparison(residues, params, cmap=plt.cm.jet, savename=None, dt=0.5, bar_width=0.4):\n",
    "    \n",
    "    colors = np.array([cmap(i) for i in np.linspace(50, 225, len(residues)).astype(int)])\n",
    "    \n",
    "    names = {'MET': 'methanol', 'URE': 'urea', 'GCL': 'ethylene glycol', 'ACH': 'acetic acid'}\n",
    "    \n",
    "    fig, ax = plt.subplots()\n",
    "    \n",
    "    for i, r in enumerate(residues):\n",
    "        \n",
    "        T = params[r]['final_parameters']['T']\n",
    "        z = params[r]['z']\n",
    "        \n",
    "        prevelant_states, state_counts = prevalent_states(z, percent=50)  # states that are at least half of trajectories\n",
    "        \n",
    "        max_selfT_ndx = prevelant_states[np.argmax(np.diag(T.mean(axis=0))[prevelant_states])]\n",
    "        max_selfT = T[:, max_selfT_ndx, max_selfT_ndx]\n",
    "        \n",
    "        dwells = dt / (1 - max_selfT)\n",
    "                \n",
    "        ax.barh(i, dwells, bar_width, color=colors[i], xerr=dwells.std())\n",
    "    \n",
    "    ax.set_yticks([0, 1, 2, 3])\n",
    "    ax.set_yticklabels([names[r] for r in residues])\n",
    "    ax.invert_yaxis()\n",
    "    ax.set_xlabel('Largest expected dwell time (ns)', fontsize=14)\n",
    "    ax.tick_params(labelsize=14)\n",
    "    #fig.legend(handles=[hatch1, hatch2], fontsize=14, loc='lower left', bbox_to_anchor=(0.38, 0.15))\n",
    "    \n",
    "    fig.tight_layout()\n",
    "    \n",
    "    if savename is not None:\n",
    "        fig.savefig(savename)\n",
    "        \n",
    "    plt.show()\n",
    "    "
   ]
  },
  {
   "cell_type": "code",
   "execution_count": 136,
   "metadata": {},
   "outputs": [
    {
     "data": {
      "image/png": "[encoded data removed]",
      "text/plain": [
       "<Figure size 432x288 with 1 Axes>"
      ]
     },
     "metadata": {
      "needs_background": "light"
     },
     "output_type": "display_data"
    }
   ],
   "source": [
    "save = True\n",
    "\n",
    "if save:\n",
    "    savename = '/home/ben/github/LLC_Membranes/Ben_Manuscripts/hdphmm/figures/dwell_time_summary.pdf'\n",
    "else:\n",
    "    savename = None\n",
    "    \n",
    "dwell_time_comparison(solutes, params, savename=savename, cmap=plt.cm.prism)"
   ]
  },
  {
   "cell_type": "code",
   "execution_count": null,
   "metadata": {},
   "outputs": [],
   "source": []
  }
 ],
 "metadata": {
  "kernelspec": {
   "display_name": "Python 3",
   "language": "python",
   "name": "python3"
  },
  "language_info": {
   "codemirror_mode": {
    "name": "ipython",
    "version": 3
   },
   "file_extension": ".py",
   "mimetype": "text/x-python",
   "name": "python",
   "nbconvert_exporter": "python",
   "pygments_lexer": "ipython3",
   "version": "3.7.4"
  }
 },
 "nbformat": 4,
 "nbformat_minor": 2
}
